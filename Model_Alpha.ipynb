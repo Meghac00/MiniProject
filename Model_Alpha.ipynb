{
  "nbformat": 4,
  "nbformat_minor": 0,
  "metadata": {
    "colab": {
      "name": "Model_Alpha.ipynb",
      "provenance": [],
      "collapsed_sections": []
    },
    "kernelspec": {
      "name": "python3",
      "display_name": "Python 3"
    },
    "language_info": {
      "name": "python"
    },
    "accelerator": "GPU"
  },
  "cells": [
    {
      "cell_type": "markdown",
      "source": [
        "## Mounting with Google Drive"
      ],
      "metadata": {
        "id": "yekfRZ_sXlRd"
      }
    },
    {
      "cell_type": "code",
      "execution_count": null,
      "metadata": {
        "id": "oPOXb_0c0OhE",
        "colab": {
          "base_uri": "https://localhost:8080/"
        },
        "outputId": "3129812f-bc47-4f83-92b9-754b7413e2ae"
      },
      "outputs": [
        {
          "output_type": "stream",
          "name": "stdout",
          "text": [
            "Mounted at /content/drive/\n"
          ]
        }
      ],
      "source": [
        "from google.colab import drive\n",
        "drive.mount('/content/drive/')"
      ]
    },
    {
      "cell_type": "markdown",
      "source": [
        "\n",
        "\n",
        "---\n",
        "\n",
        "\n",
        "\n",
        "---\n",
        "## Importing Libraries\n"
      ],
      "metadata": {
        "id": "BECFopWIY14z"
      }
    },
    {
      "cell_type": "code",
      "source": [
        "import os\n",
        "import numpy as np\n",
        "import cv2\n",
        "import matplotlib.pyplot as plt\n",
        "from zipfile import ZipFile\n",
        "import pickle\n",
        "import tensorflow as tf\n",
        "from keras.preprocessing.image import ImageDataGenerator\n",
        "from keras.callbacks import EarlyStopping, ReduceLROnPlateau, ModelCheckpoint"
      ],
      "metadata": {
        "id": "4ECbeEXzYzeu"
      },
      "execution_count": null,
      "outputs": []
    },
    {
      "cell_type": "markdown",
      "source": [
        "\n",
        "\n",
        "---\n",
        "\n",
        "\n",
        "\n",
        "---\n",
        "\n",
        "## Looking over to the DATA"
      ],
      "metadata": {
        "id": "oe8o_kJbZNd7"
      }
    },
    {
      "cell_type": "code",
      "source": [
        "def unzip():\n",
        "  zip = ZipFile('/content/drive/MyDrive/Colab Notebooks/Pneumonia Detection/archive.zip', 'r')\n",
        "  zip.extractall('Unzip_File')\n",
        "  zip.close()\n",
        "\n",
        "# unzip()"
      ],
      "metadata": {
        "id": "4caACHmAZMZq"
      },
      "execution_count": null,
      "outputs": []
    },
    {
      "cell_type": "code",
      "source": [
        "# # path name\n",
        "train_dir = '/content/Unzip_File/chest_xray/train'\n",
        "val_dir = '/content/Unzip_File/chest_xray/val'\n",
        "test_dir = '/content/Unzip_File/chest_xray/test'\n",
        "\n",
        "# categories\n",
        "categories = ['NORMAL', 'PNEUMONIA']"
      ],
      "metadata": {
        "id": "pjvDdXmzXfa2"
      },
      "execution_count": null,
      "outputs": []
    },
    {
      "cell_type": "code",
      "source": [
        "image_width = 224\n",
        "image_height = 224\n",
        "image_size = (image_width,image_height)\n",
        "\n",
        "def make_data():\n",
        "  nor_data=[]\n",
        "  pne_data=[]\n",
        "  \n",
        "  for dir in [train_dir, val_dir, test_dir]:\n",
        "    for category in categories:\n",
        "      path = os.path.join(dir, category)\n",
        "      label = categories.index(category)\n",
        "      \n",
        "      for img in os.listdir(path):\n",
        "        img_path = os.path.join(path,img)\n",
        "          \n",
        "        try:\n",
        "          image = cv2.imread(img_path)\n",
        "          image = cv2.cvtColor(image, cv2.COLOR_BGR2GRAY)\n",
        "          image = cv2.resize(image, image_size)\n",
        "\n",
        "          image = np.array(image, dtype=np.float64)\n",
        "          if label==0:\n",
        "            nor_data.append([image,label])\n",
        "          else:\n",
        "            pne_data.append([image,label])\n",
        "          \n",
        "        except:\n",
        "          pass\n",
        "  pik = open('/content/drive/MyDrive/Colab Notebooks/Chest XRay/normal.pickle', 'wb')\n",
        "  pickle.dump(nor_data, pik)\n",
        "  pik.close()\n",
        "  pik = open('/content/drive/MyDrive/Colab Notebooks/Chest XRay/pneumonia.pickle', 'wb')\n",
        "  pickle.dump(pne_data, pik)\n",
        "  pik.close()\n",
        "         \n",
        "# make_data()       "
      ],
      "metadata": {
        "id": "DC4iuQDYejTq"
      },
      "execution_count": null,
      "outputs": []
    },
    {
      "cell_type": "code",
      "source": [
        "nor_count=0\n",
        "pne_count = 0\n",
        "def load_data(dir):\n",
        "  nor_count=0\n",
        "  pne_count = 0\n",
        "  pick = open(dir, 'rb')\n",
        "  data = pickle.load(pick)\n",
        "  pick.close()\n",
        "\n",
        "  np.random.shuffle(data)\n",
        "  \n",
        "  feature = []\n",
        "  labels = []\n",
        "\n",
        "  for img,label in data:\n",
        "    feature.append(img)\n",
        "    labels.append(label)\n",
        "    if(label==0):\n",
        "      nor_count+=1\n",
        "    else:\n",
        "      pne_count+=1\n",
        "\n",
        "  feature = np.array(feature, dtype=np.float64)\n",
        "  labels = np.array(labels)\n",
        "\n",
        "  feature /= 255.0\n",
        "\n",
        "  return [feature, labels]"
      ],
      "metadata": {
        "id": "wd8w9_1pwHfG"
      },
      "execution_count": null,
      "outputs": []
    },
    {
      "cell_type": "code",
      "source": [
        "normal = load_data('/content/drive/MyDrive/Colab Notebooks/Chest XRay/normal.pickle')\n",
        "pneumonia = load_data('/content/drive/MyDrive/Colab Notebooks/Chest XRay/pneumonia.pickle')"
      ],
      "metadata": {
        "id": "vPrL3jaj50hL"
      },
      "execution_count": null,
      "outputs": []
    },
    {
      "cell_type": "code",
      "source": [
        "def split_data():\n",
        "  train_nor = normal[0][:int(len(normal[0])*0.6)]                                         # 60% normal data\n",
        "  train_nor_label = normal[1][:int(len(normal[1])*0.6)]\n",
        "  val_nor = normal[0][int(len(normal[0])*0.6):int(len(normal[0])*0.75)]                    # 15% normal data\n",
        "  val_nor_label = normal[1][int(len(normal[1])*0.6):int(len(normal[1])*0.75)]\n",
        "  test_nor = normal[0][int(len(normal[0])*0.75):]                                          # 25% normal data\n",
        "  test_nor_label = normal[1][int(len(normal[1])*0.75):]\n",
        "\n",
        "  train_pneu = pneumonia[0][:int(len(pneumonia[0])*0.6)]                                  # 60% pneumonia data\n",
        "  train_pneu_label = pneumonia[1][:int(len(pneumonia[1])*0.6)]\n",
        "  val_pneu = pneumonia[0][int(len(pneumonia[0])*0.6):int(len(pneumonia[0])*0.75)]         # 15% pneumonia data\n",
        "  val_pneu_label = pneumonia[1][int(len(pneumonia[1])*0.6):int(len(pneumonia[1])*0.75)]\n",
        "  test_pneu = pneumonia[0][int(len(pneumonia[0])*0.75):]                                  # 25% pneumonia data\n",
        "  test_pneu_label = pneumonia[1][int(len(pneumonia[1])*0.75):]\n",
        "\n",
        "  train_feature = np.concatenate((train_nor, train_pneu))\n",
        "  train_label = np.concatenate((train_nor_label, train_pneu_label))\n",
        "\n",
        "  val_feature = np.concatenate((val_nor, val_pneu))\n",
        "  val_label = np.concatenate((val_nor_label, val_pneu_label))\n",
        "\n",
        "  test_feature = np.concatenate((test_nor, test_pneu))\n",
        "  test_label = np.concatenate((test_nor_label, test_pneu_label))\n",
        "\n",
        "  return train_feature, train_label, val_feature, val_label, test_feature, test_label"
      ],
      "metadata": {
        "id": "xmSoOVUxMX8o"
      },
      "execution_count": null,
      "outputs": []
    },
    {
      "cell_type": "code",
      "source": [
        "x_train, y_train, x_val, y_val, x_test, y_test = split_data()"
      ],
      "metadata": {
        "id": "x0KS3TgVNFbv"
      },
      "execution_count": null,
      "outputs": []
    },
    {
      "cell_type": "code",
      "source": [
        "datagen = ImageDataGenerator(\n",
        "        # rotation_range = 45,\n",
        "        # shear_range = 0.2,\n",
        "        rescale=1/255.0,\n",
        "        zoom_range = 0.2,\n",
        "        height_shift_range = 0.2,\n",
        "        width_shift_range = 0.2,\n",
        "        fill_mode = \"constant\")\n",
        "        # horizontal_flip = True,\n",
        "        # vertical_flip = True)\n",
        "        # brightness_range = (0.5, 1.5))"
      ],
      "metadata": {
        "id": "HgKcekuka9MB"
      },
      "execution_count": null,
      "outputs": []
    },
    {
      "cell_type": "code",
      "source": [
        "it = datagen.flow(x_train.reshape(x_train.shape[0], image_height, image_width, 1), y_train, batch_size=64)"
      ],
      "metadata": {
        "id": "4xnHm1Gxb3yW"
      },
      "execution_count": null,
      "outputs": []
    },
    {
      "cell_type": "code",
      "source": [
        "@title\n",
        "input_layer = tf.keras.Input([image_width, image_height,1])\n",
        "\n",
        "conv1 = tf.keras.layers.Conv2D(filters=32, kernel_size=(5,5),padding='Same', \n",
        "                                 activation='relu')(input_layer)\n",
        "\n",
        "pool1 = tf.keras.layers.MaxPooling2D(pool_size=(2,2))(conv1)\n",
        "\n",
        "# drop1 = tf.keras.layers.Dropout(0.25)(conv1)\n",
        "\n",
        "conv2 = tf.keras.layers.Conv2D(filters=64, kernel_size=(3,3), padding='Same',\n",
        "                               activation='relu')(pool1)\n",
        "            \n",
        "# drop2 = tf.keras.layers.Dropout(0.25)(conv2)\n",
        "\n",
        "pool2 = tf.keras.layers.MaxPooling2D(pool_size=(2,2), strides=(2,2))(conv2)\n",
        "\n",
        "conv3 = tf.keras.layers.Conv2D(filters=96, kernel_size=(3,3), padding='Same',\n",
        "                               activation='relu')(pool2)\n",
        "\n",
        "pool3 = tf.keras.layers.MaxPooling2D(pool_size=(2,2), strides=(2,2))(conv3)\n",
        "\n",
        "flt1 =tf.keras.layers.Flatten()(pool3)\n",
        "\n",
        "dn1 = tf.keras.layers.Dense(128, activation='relu')(flt1)\n",
        "\n",
        "out = tf.keras.layers.Dense(1, activation='sigmoid')(dn1)"
      ],
      "metadata": {
        "id": "tdpsxAeLchL6"
      },
      "execution_count": null,
      "outputs": []
    },
    {
      "cell_type": "code",
      "source": [
        "#@title\n",
        "model = tf.keras.Model(input_layer, out)"
      ],
      "metadata": {
        "id": "NNwQqUVzZ4k5"
      },
      "execution_count": null,
      "outputs": []
    },
    {
      "cell_type": "code",
      "source": [
        "#@title\n",
        "from keras.applications.vgg19 import VGG19\n",
        "base_model = VGG19(input_shape = (image_height, image_width, 1), include_top=False, weights=None)\n",
        "for layer in base_model.layers:\n",
        "  layer.trainable = False"
      ],
      "metadata": {
        "id": "etbpr8YQmJcX",
        "cellView": "form"
      },
      "execution_count": null,
      "outputs": []
    },
    {
      "cell_type": "code",
      "source": [
        "#@title\n",
        "x = tf.keras.layers.Flatten()(base_model.output)\n",
        "x = tf.keras.layers.Dense(1024, activation='relu')(x)\n",
        "x = tf.keras.layers.Dropout(0.3)(x)\n",
        "x = tf.keras.layers.Dense(1024, activation='relu')(x)\n",
        "x = tf.keras.layers.Dropout(0.2)(x)\n",
        "predictions = tf.keras.layers.Dense(1, activation='sigmoid')(x)"
      ],
      "metadata": {
        "id": "GxGMxF0xmQXn",
        "cellView": "form"
      },
      "execution_count": null,
      "outputs": []
    },
    {
      "cell_type": "code",
      "source": [
        "#@title\n",
        "model = tf.keras.Model(inputs = base_model.input, outputs = predictions)"
      ],
      "metadata": {
        "id": "QGaXnngomaCa",
        "cellView": "form"
      },
      "execution_count": null,
      "outputs": []
    },
    {
      "cell_type": "code",
      "source": [
        "opt = tf.keras.optimizers.Adam(learning_rate=0.001)\n",
        "\n",
        "model.compile(optimizer=opt, loss='binary_crossentropy',       \n",
        "              metrics=['accuracy'])"
      ],
      "metadata": {
        "id": "DrnU4ph0c9NZ"
      },
      "execution_count": null,
      "outputs": []
    },
    {
      "cell_type": "code",
      "source": [
        "earlystopping = EarlyStopping(\n",
        "    monitor = 'val_accuracy',\n",
        "    patience = 5,\n",
        "    restore_best_weights=False)\n",
        "\n",
        "# mcp_save = ModelCheckpoint(\n",
        "#     '/content/mdl_wts.hdf5', \n",
        "#     save_best_only=True, \n",
        "#     monitor='loss', \n",
        "#     mode='min')\n",
        "\n",
        "rlrop = ReduceLROnPlateau(\n",
        "    monitor='val_accuracy', \n",
        "    factor=0.2, \n",
        "    patience=2)"
      ],
      "metadata": {
        "id": "x2kG_ltRiKKr"
      },
      "execution_count": null,
      "outputs": []
    },
    {
      "cell_type": "code",
      "source": [
        ""
      ],
      "metadata": {
        "id": "bin_zNNTk4pK"
      },
      "execution_count": null,
      "outputs": []
    },
    {
      "cell_type": "code",
      "source": [
        "model.fit(#it,\n",
        "          x_train,y_train,\n",
        "          # steps_per_epoch=len(x_train) // 64,\n",
        "          validation_data=(x_val,y_val),\n",
        "          epochs=100,\n",
        "          callbacks=[earlystopping, rlrop])"
      ],
      "metadata": {
        "colab": {
          "base_uri": "https://localhost:8080/"
        },
        "id": "svYUcOdgdiGi",
        "outputId": "9480f822-2fea-40cb-81ce-443fa60ab360"
      },
      "execution_count": null,
      "outputs": [
        {
          "output_type": "stream",
          "name": "stdout",
          "text": [
            "Epoch 1/100\n",
            "110/110 [==============================] - 46s 407ms/step - loss: 0.5837 - accuracy: 0.7235 - val_loss: 0.5274 - val_accuracy: 0.7292 - lr: 0.0010\n",
            "Epoch 2/100\n",
            "110/110 [==============================] - 44s 403ms/step - loss: 0.3666 - accuracy: 0.8220 - val_loss: 0.2335 - val_accuracy: 0.9101 - lr: 0.0010\n",
            "Epoch 3/100\n",
            "110/110 [==============================] - 44s 403ms/step - loss: 0.2402 - accuracy: 0.9026 - val_loss: 0.2164 - val_accuracy: 0.9033 - lr: 0.0010\n",
            "Epoch 4/100\n",
            "110/110 [==============================] - 44s 403ms/step - loss: 0.2031 - accuracy: 0.9243 - val_loss: 0.3011 - val_accuracy: 0.8737 - lr: 0.0010\n",
            "Epoch 5/100\n",
            "110/110 [==============================] - 44s 403ms/step - loss: 0.1725 - accuracy: 0.9396 - val_loss: 0.1557 - val_accuracy: 0.9397 - lr: 2.0000e-04\n",
            "Epoch 6/100\n",
            "110/110 [==============================] - 44s 403ms/step - loss: 0.1635 - accuracy: 0.9411 - val_loss: 0.1596 - val_accuracy: 0.9317 - lr: 2.0000e-04\n",
            "Epoch 7/100\n",
            "110/110 [==============================] - 44s 403ms/step - loss: 0.1619 - accuracy: 0.9419 - val_loss: 0.1512 - val_accuracy: 0.9408 - lr: 2.0000e-04\n",
            "Epoch 8/100\n",
            "110/110 [==============================] - 44s 403ms/step - loss: 0.1651 - accuracy: 0.9391 - val_loss: 0.1483 - val_accuracy: 0.9420 - lr: 2.0000e-04\n",
            "Epoch 9/100\n",
            "110/110 [==============================] - 44s 403ms/step - loss: 0.1548 - accuracy: 0.9465 - val_loss: 0.1455 - val_accuracy: 0.9465 - lr: 2.0000e-04\n",
            "Epoch 10/100\n",
            "110/110 [==============================] - 44s 403ms/step - loss: 0.1548 - accuracy: 0.9442 - val_loss: 0.1477 - val_accuracy: 0.9420 - lr: 2.0000e-04\n",
            "Epoch 11/100\n",
            "110/110 [==============================] - 44s 403ms/step - loss: 0.1539 - accuracy: 0.9468 - val_loss: 0.1424 - val_accuracy: 0.9477 - lr: 2.0000e-04\n",
            "Epoch 12/100\n",
            "110/110 [==============================] - 44s 403ms/step - loss: 0.1478 - accuracy: 0.9485 - val_loss: 0.1464 - val_accuracy: 0.9465 - lr: 2.0000e-04\n",
            "Epoch 13/100\n",
            "110/110 [==============================] - 44s 403ms/step - loss: 0.1484 - accuracy: 0.9487 - val_loss: 0.1444 - val_accuracy: 0.9465 - lr: 2.0000e-04\n",
            "Epoch 14/100\n",
            "110/110 [==============================] - 44s 402ms/step - loss: 0.1443 - accuracy: 0.9519 - val_loss: 0.1403 - val_accuracy: 0.9465 - lr: 4.0000e-05\n",
            "Epoch 15/100\n",
            "110/110 [==============================] - 44s 402ms/step - loss: 0.1424 - accuracy: 0.9513 - val_loss: 0.1402 - val_accuracy: 0.9488 - lr: 4.0000e-05\n",
            "Epoch 16/100\n",
            "110/110 [==============================] - 44s 402ms/step - loss: 0.1428 - accuracy: 0.9487 - val_loss: 0.1401 - val_accuracy: 0.9488 - lr: 4.0000e-05\n",
            "Epoch 17/100\n",
            "110/110 [==============================] - 44s 402ms/step - loss: 0.1431 - accuracy: 0.9485 - val_loss: 0.1381 - val_accuracy: 0.9477 - lr: 4.0000e-05\n",
            "Epoch 18/100\n",
            "110/110 [==============================] - 44s 402ms/step - loss: 0.1401 - accuracy: 0.9527 - val_loss: 0.1379 - val_accuracy: 0.9465 - lr: 8.0000e-06\n",
            "Epoch 19/100\n",
            "110/110 [==============================] - 44s 402ms/step - loss: 0.1414 - accuracy: 0.9499 - val_loss: 0.1377 - val_accuracy: 0.9477 - lr: 8.0000e-06\n",
            "Epoch 20/100\n",
            "110/110 [==============================] - 44s 402ms/step - loss: 0.1406 - accuracy: 0.9505 - val_loss: 0.1378 - val_accuracy: 0.9465 - lr: 1.6000e-06\n"
          ]
        },
        {
          "output_type": "execute_result",
          "data": {
            "text/plain": [
              "<keras.callbacks.History at 0x7f5adeaa0150>"
            ]
          },
          "metadata": {},
          "execution_count": 32
        }
      ]
    },
    {
      "cell_type": "code",
      "source": [
        "model.evaluate(x_test, y_test,verbose=1)"
      ],
      "metadata": {
        "id": "jVBQ9Z5Qdmhm",
        "colab": {
          "base_uri": "https://localhost:8080/"
        },
        "outputId": "f751d418-3687-4439-eb5b-ed169fc914cd"
      },
      "execution_count": null,
      "outputs": [
        {
          "output_type": "stream",
          "name": "stdout",
          "text": [
            "46/46 [==============================] - 18s 392ms/step - loss: 0.1460 - accuracy: 0.9413\n"
          ]
        },
        {
          "output_type": "execute_result",
          "data": {
            "text/plain": [
              "[0.14600317180156708, 0.9412969350814819]"
            ]
          },
          "metadata": {},
          "execution_count": 33
        }
      ]
    },
    {
      "cell_type": "code",
      "source": [
        "model.save('/content/drive/MyDrive/Colab Notebooks/Pneumonia Detection/model_alpha1.h5')"
      ],
      "metadata": {
        "id": "x8CDPyQrvVIP"
      },
      "execution_count": null,
      "outputs": []
    }
  ]
}